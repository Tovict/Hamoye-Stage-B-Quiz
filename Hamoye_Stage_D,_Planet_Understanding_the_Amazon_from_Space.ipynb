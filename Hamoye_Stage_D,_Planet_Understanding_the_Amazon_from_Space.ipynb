{
  "cells": [
    {
      "cell_type": "code",
      "execution_count": null,
      "metadata": {
        "id": "j5lj8dp75h-3"
      },
      "outputs": [],
      "source": [
        "!pip install --upgrade tensorflow"
      ]
    },
    {
      "cell_type": "code",
      "execution_count": 5,
      "metadata": {
        "id": "nnh-krU4qy73"
      },
      "outputs": [],
      "source": [
        "# Import the necessary libraries\n",
        "import os\n",
        "import numpy as np\n",
        "import pandas as pd\n",
        "import matplotlib.pyplot as plt\n",
        "import tensorflow as tf\n",
        "from tensorflow import keras\n",
        "import cv2"
      ]
    },
    {
      "cell_type": "code",
      "execution_count": 6,
      "metadata": {
        "id": "KEZgFaLjd3c8"
      },
      "outputs": [],
      "source": [
        "#MY KAGGLE API\n",
        "os.environ[\"KAGGLE_USERNAME\"] = \"victoriaolanipekun\"\n",
        "os.environ[\"KAGGLE_KEY\"] = \t\"d487a7e9160802ab125541fe0a0d6abb\""
      ]
    },
    {
      "cell_type": "code",
      "execution_count": 7,
      "metadata": {
        "colab": {
          "base_uri": "https://localhost:8080/"
        },
        "id": "NrVYbzy1iAUF",
        "outputId": "0fbf84eb-482e-4346-ff7e-ce514c0cf68a"
      },
      "outputs": [
        {
          "output_type": "stream",
          "name": "stdout",
          "text": [
            "planets-dataset.zip: Skipping, found more recently modified local copy (use --force to force download)\n"
          ]
        }
      ],
      "source": [
        "# Downloading the dataset directly from Kaggle on the Colab environment \n",
        "!kaggle datasets download -d nikitarom/planets-dataset\n",
        "\n"
      ]
    },
    {
      "cell_type": "code",
      "execution_count": 8,
      "metadata": {
        "id": "tFKUZbJ1iB5j",
        "colab": {
          "base_uri": "https://localhost:8080/"
        },
        "outputId": "f2f36b59-a482-4681-fc15-6ba173aa7355"
      },
      "outputs": [
        {
          "output_type": "stream",
          "name": "stdout",
          "text": [
            "Archive:  /content/planets-dataset.zip\n",
            "replace planet/planet/sample_submission.csv? [y]es, [n]o, [A]ll, [N]one, [r]ename: y\n",
            "  inflating: planet/planet/sample_submission.csv  \n",
            "replace planet/planet/test-jpg/test_0.jpg? [y]es, [n]o, [A]ll, [N]one, [r]ename: y\n",
            "  inflating: planet/planet/test-jpg/test_0.jpg  \n",
            "replace planet/planet/test-jpg/test_1.jpg? [y]es, [n]o, [A]ll, [N]one, [r]ename: y\n",
            "  inflating: planet/planet/test-jpg/test_1.jpg  \n",
            "replace planet/planet/test-jpg/test_10.jpg? [y]es, [n]o, [A]ll, [N]one, [r]ename: y\n",
            "  inflating: planet/planet/test-jpg/test_10.jpg  \n",
            "replace planet/planet/test-jpg/test_100.jpg? [y]es, [n]o, [A]ll, [N]one, [r]ename: y\n",
            "  inflating: planet/planet/test-jpg/test_100.jpg  \n",
            "replace planet/planet/test-jpg/test_1000.jpg? [y]es, [n]o, [A]ll, [N]one, [r]ename: y\n",
            "  inflating: planet/planet/test-jpg/test_1000.jpg  \n",
            "replace planet/planet/test-jpg/test_10000.jpg? [y]es, [n]o, [A]ll, [N]one, [r]ename: "
          ]
        }
      ],
      "source": [
        "! unzip /content/planets-dataset.zip"
      ]
    },
    {
      "cell_type": "code",
      "execution_count": 10,
      "metadata": {
        "colab": {
          "base_uri": "https://localhost:8080/",
          "height": 206
        },
        "id": "UPtRhaPfjbg6",
        "outputId": "f926ace9-9872-4b57-f831-fe183adf8e94"
      },
      "outputs": [
        {
          "output_type": "execute_result",
          "data": {
            "text/plain": [
              "  image_name                                       tags\n",
              "0    train_0                               haze primary\n",
              "1    train_1            agriculture clear primary water\n",
              "2    train_2                              clear primary\n",
              "3    train_3                              clear primary\n",
              "4    train_4  agriculture clear habitation primary road"
            ],
            "text/html": [
              "\n",
              "  <div id=\"df-44f0cc77-8143-4ba1-8196-d6173e4dd779\">\n",
              "    <div class=\"colab-df-container\">\n",
              "      <div>\n",
              "<style scoped>\n",
              "    .dataframe tbody tr th:only-of-type {\n",
              "        vertical-align: middle;\n",
              "    }\n",
              "\n",
              "    .dataframe tbody tr th {\n",
              "        vertical-align: top;\n",
              "    }\n",
              "\n",
              "    .dataframe thead th {\n",
              "        text-align: right;\n",
              "    }\n",
              "</style>\n",
              "<table border=\"1\" class=\"dataframe\">\n",
              "  <thead>\n",
              "    <tr style=\"text-align: right;\">\n",
              "      <th></th>\n",
              "      <th>image_name</th>\n",
              "      <th>tags</th>\n",
              "    </tr>\n",
              "  </thead>\n",
              "  <tbody>\n",
              "    <tr>\n",
              "      <th>0</th>\n",
              "      <td>train_0</td>\n",
              "      <td>haze primary</td>\n",
              "    </tr>\n",
              "    <tr>\n",
              "      <th>1</th>\n",
              "      <td>train_1</td>\n",
              "      <td>agriculture clear primary water</td>\n",
              "    </tr>\n",
              "    <tr>\n",
              "      <th>2</th>\n",
              "      <td>train_2</td>\n",
              "      <td>clear primary</td>\n",
              "    </tr>\n",
              "    <tr>\n",
              "      <th>3</th>\n",
              "      <td>train_3</td>\n",
              "      <td>clear primary</td>\n",
              "    </tr>\n",
              "    <tr>\n",
              "      <th>4</th>\n",
              "      <td>train_4</td>\n",
              "      <td>agriculture clear habitation primary road</td>\n",
              "    </tr>\n",
              "  </tbody>\n",
              "</table>\n",
              "</div>\n",
              "      <button class=\"colab-df-convert\" onclick=\"convertToInteractive('df-44f0cc77-8143-4ba1-8196-d6173e4dd779')\"\n",
              "              title=\"Convert this dataframe to an interactive table.\"\n",
              "              style=\"display:none;\">\n",
              "        \n",
              "  <svg xmlns=\"http://www.w3.org/2000/svg\" height=\"24px\"viewBox=\"0 0 24 24\"\n",
              "       width=\"24px\">\n",
              "    <path d=\"M0 0h24v24H0V0z\" fill=\"none\"/>\n",
              "    <path d=\"M18.56 5.44l.94 2.06.94-2.06 2.06-.94-2.06-.94-.94-2.06-.94 2.06-2.06.94zm-11 1L8.5 8.5l.94-2.06 2.06-.94-2.06-.94L8.5 2.5l-.94 2.06-2.06.94zm10 10l.94 2.06.94-2.06 2.06-.94-2.06-.94-.94-2.06-.94 2.06-2.06.94z\"/><path d=\"M17.41 7.96l-1.37-1.37c-.4-.4-.92-.59-1.43-.59-.52 0-1.04.2-1.43.59L10.3 9.45l-7.72 7.72c-.78.78-.78 2.05 0 2.83L4 21.41c.39.39.9.59 1.41.59.51 0 1.02-.2 1.41-.59l7.78-7.78 2.81-2.81c.8-.78.8-2.07 0-2.86zM5.41 20L4 18.59l7.72-7.72 1.47 1.35L5.41 20z\"/>\n",
              "  </svg>\n",
              "      </button>\n",
              "      \n",
              "  <style>\n",
              "    .colab-df-container {\n",
              "      display:flex;\n",
              "      flex-wrap:wrap;\n",
              "      gap: 12px;\n",
              "    }\n",
              "\n",
              "    .colab-df-convert {\n",
              "      background-color: #E8F0FE;\n",
              "      border: none;\n",
              "      border-radius: 50%;\n",
              "      cursor: pointer;\n",
              "      display: none;\n",
              "      fill: #1967D2;\n",
              "      height: 32px;\n",
              "      padding: 0 0 0 0;\n",
              "      width: 32px;\n",
              "    }\n",
              "\n",
              "    .colab-df-convert:hover {\n",
              "      background-color: #E2EBFA;\n",
              "      box-shadow: 0px 1px 2px rgba(60, 64, 67, 0.3), 0px 1px 3px 1px rgba(60, 64, 67, 0.15);\n",
              "      fill: #174EA6;\n",
              "    }\n",
              "\n",
              "    [theme=dark] .colab-df-convert {\n",
              "      background-color: #3B4455;\n",
              "      fill: #D2E3FC;\n",
              "    }\n",
              "\n",
              "    [theme=dark] .colab-df-convert:hover {\n",
              "      background-color: #434B5C;\n",
              "      box-shadow: 0px 1px 3px 1px rgba(0, 0, 0, 0.15);\n",
              "      filter: drop-shadow(0px 1px 2px rgba(0, 0, 0, 0.3));\n",
              "      fill: #FFFFFF;\n",
              "    }\n",
              "  </style>\n",
              "\n",
              "      <script>\n",
              "        const buttonEl =\n",
              "          document.querySelector('#df-44f0cc77-8143-4ba1-8196-d6173e4dd779 button.colab-df-convert');\n",
              "        buttonEl.style.display =\n",
              "          google.colab.kernel.accessAllowed ? 'block' : 'none';\n",
              "\n",
              "        async function convertToInteractive(key) {\n",
              "          const element = document.querySelector('#df-44f0cc77-8143-4ba1-8196-d6173e4dd779');\n",
              "          const dataTable =\n",
              "            await google.colab.kernel.invokeFunction('convertToInteractive',\n",
              "                                                     [key], {});\n",
              "          if (!dataTable) return;\n",
              "\n",
              "          const docLinkHtml = 'Like what you see? Visit the ' +\n",
              "            '<a target=\"_blank\" href=https://colab.research.google.com/notebooks/data_table.ipynb>data table notebook</a>'\n",
              "            + ' to learn more about interactive tables.';\n",
              "          element.innerHTML = '';\n",
              "          dataTable['output_type'] = 'display_data';\n",
              "          await google.colab.output.renderOutput(dataTable, element);\n",
              "          const docLink = document.createElement('div');\n",
              "          docLink.innerHTML = docLinkHtml;\n",
              "          element.appendChild(docLink);\n",
              "        }\n",
              "      </script>\n",
              "    </div>\n",
              "  </div>\n",
              "  "
            ]
          },
          "metadata": {},
          "execution_count": 10
        }
      ],
      "source": [
        "# Import the dataset\n",
        "train_classes = pd.read_csv(\"/content/planet/planet/train_classes.csv\")\n",
        "sample_sub = pd.read_csv(\"/content/planet/planet/sample_submission.csv\")\n",
        "train_classes.head(5)\n"
      ]
    },
    {
      "cell_type": "code",
      "execution_count": 11,
      "metadata": {
        "colab": {
          "base_uri": "https://localhost:8080/"
        },
        "id": "dLVO9wKGkJ3d",
        "outputId": "df8da5df-b5ef-49e1-d9dd-5552bbeb2182"
      },
      "outputs": [
        {
          "output_type": "execute_result",
          "data": {
            "text/plain": [
              "['haze', 'primary', 'agriculture']"
            ]
          },
          "metadata": {},
          "execution_count": 11
        }
      ],
      "source": [
        "label_list = []\n",
        "for tag_str in train_classes.tags.values:\n",
        "    labels = tag_str.split(' ')\n",
        "    for label in labels:\n",
        "        label_list.append(label)\n",
        "label_list[:3]"
      ]
    },
    {
      "cell_type": "code",
      "execution_count": 12,
      "metadata": {
        "colab": {
          "base_uri": "https://localhost:8080/"
        },
        "id": "4pFaNOKxmoRx",
        "outputId": "0032214e-6149-47cc-ab01-7b33f589dffc"
      },
      "outputs": [
        {
          "output_type": "execute_result",
          "data": {
            "text/plain": [
              "{'agriculture': 12314,\n",
              " 'artisinal_mine': 338,\n",
              " 'bare_ground': 861,\n",
              " 'blooming': 331,\n",
              " 'blow_down': 100,\n",
              " 'clear': 28430,\n",
              " 'cloudy': 2088,\n",
              " 'conventional_mine': 99,\n",
              " 'cultivation': 4546,\n",
              " 'habitation': 3659,\n",
              " 'haze': 2696,\n",
              " 'partly_cloudy': 7260,\n",
              " 'primary': 37512,\n",
              " 'road': 8070,\n",
              " 'selective_logging': 339,\n",
              " 'slash_burn': 208,\n",
              " 'water': 7410}"
            ]
          },
          "metadata": {},
          "execution_count": 12
        }
      ],
      "source": [
        "# Counts the labels\n",
        "counts = {}\n",
        "tags = train_classes['tags'].map(lambda x: x.split(' '))\n",
        "for labels in tags.values:\n",
        "    for label in labels:\n",
        "        counts[label] = counts[label] + 1  if label in counts else 0\n",
        "counts"
      ]
    },
    {
      "cell_type": "code",
      "execution_count": 13,
      "metadata": {
        "colab": {
          "base_uri": "https://localhost:8080/",
          "height": 474
        },
        "id": "FkudeAQzmym5",
        "outputId": "33ceeaab-1f77-4810-b9eb-f9b5d893976c"
      },
      "outputs": [
        {
          "output_type": "display_data",
          "data": {
            "text/plain": [
              "<Figure size 648x432 with 1 Axes>"
            ],
            "image/png": "[encoded data removed]"
          },
          "metadata": {
            "needs_background": "light"
          }
        }
      ],
      "source": [
        "plt.figure(figsize=(9, 6))\n",
        "idxs = range(len(counts.values()))\n",
        "plt.xticks(idxs, counts.keys(), rotation=90)\n",
        "plt.bar(idxs, counts.values());\n",
        "plt.title('tags for train_classes');"
      ]
    },
    {
      "cell_type": "code",
      "execution_count": 14,
      "metadata": {
        "colab": {
          "base_uri": "https://localhost:8080/"
        },
        "id": "b3etSt3-piKf",
        "outputId": "3caa2b62-53b4-4255-d60f-2796b2a960fd"
      },
      "outputs": [
        {
          "output_type": "execute_result",
          "data": {
            "text/plain": [
              "{'agriculture': 2,\n",
              " 'artisinal_mine': 13,\n",
              " 'bare_ground': 12,\n",
              " 'blooming': 14,\n",
              " 'blow_down': 16,\n",
              " 'clear': 3,\n",
              " 'cloudy': 9,\n",
              " 'conventional_mine': 11,\n",
              " 'cultivation': 7,\n",
              " 'habitation': 5,\n",
              " 'haze': 0,\n",
              " 'partly_cloudy': 10,\n",
              " 'primary': 1,\n",
              " 'road': 6,\n",
              " 'selective_logging': 15,\n",
              " 'slash_burn': 8,\n",
              " 'water': 4}"
            ]
          },
          "metadata": {},
          "execution_count": 14
        }
      ],
      "source": [
        "# Create dictionary list for converting labels to numerical classes\n",
        "\n",
        "label_list = { counts: name for name, counts in enumerate(counts)}\n",
        "label_list"
      ]
    },
    {
      "cell_type": "code",
      "execution_count": 15,
      "metadata": {
        "id": "bxfwohNZKwfv"
      },
      "outputs": [],
      "source": [
        "#loading the data\n",
        "all_labels = tags.values\n",
        "labels = list(set([y for x in all_labels for y in x]))\n",
        "\n",
        "def load_data(train_classes, labels, resize):\n",
        "    x_train = []\n",
        "    y_train = []\n",
        "\n",
        "    label_list = {l: i for i, l in enumerate(labels)}\n",
        "    inv_label_list= {i: l for l, i in label_list.items()}\n",
        "\n",
        "    for f, tags in train_classes.values:\n",
        "        img = cv2.imread('/content/planet/planet/train-jpg/{}.jpg'.format(f)) \n",
        "        targets = np.zeros(17)\n",
        "        for t in tags.split(' '):\n",
        "            targets[label_list[t]] = 1 \n",
        "\n",
        "        x_train.append(cv2.resize(img,resize))\n",
        "        y_train.append(targets)\n",
        "        \n",
        "    y_train = np.array(y_train, np.uint8)\n",
        "    x_train = np.array(x_train, np.float16) / 255.0\n",
        "\n",
        "    return x_train, y_train\n"
      ]
    },
    {
      "cell_type": "code",
      "execution_count": 16,
      "metadata": {
        "colab": {
          "base_uri": "https://localhost:8080/"
        },
        "id": "cgZMNQ-6HZAf",
        "outputId": "79b409bc-0b8e-4875-e5c4-493b431f046b"
      },
      "outputs": [
        {
          "output_type": "stream",
          "name": "stdout",
          "text": [
            "(40479, 64, 64, 3)\n",
            "(40479, 17)\n"
          ]
        }
      ],
      "source": [
        "# Reshaping the data\n",
        "from PIL import Image\n",
        "from skimage import io\n",
        "from tensorflow.keras.preprocessing.image import load_img, img_to_array\n",
        "\n",
        "x, y = load_data(train_classes, labels,resize=(64,64))\n",
        "print(x.shape)\n",
        "print(y.shape)\n",
        "\n"
      ]
    },
    {
      "cell_type": "code",
      "execution_count": 17,
      "metadata": {
        "colab": {
          "base_uri": "https://localhost:8080/"
        },
        "id": "58jPmER0UR1O",
        "outputId": "149166bc-ba7c-46e6-ebf3-97e51aac78f3"
      },
      "outputs": [
        {
          "output_type": "stream",
          "name": "stdout",
          "text": [
            "(40479, 2)\n",
            "(61191, 2)\n"
          ]
        }
      ],
      "source": [
        "# check shape of image data\n",
        "print(train_classes.shape)\n",
        "print(sample_sub.shape)\n",
        "\n"
      ]
    },
    {
      "cell_type": "code",
      "execution_count": 18,
      "metadata": {
        "colab": {
          "base_uri": "https://localhost:8080/"
        },
        "id": "JKdzeyJIVsCo",
        "outputId": "e5b0f885-39c6-413f-b005-da9010c1d542"
      },
      "outputs": [
        {
          "output_type": "stream",
          "name": "stdout",
          "text": [
            "(32383, 64, 64, 3)\n",
            "(8096, 64, 64, 3)\n",
            "(32383, 17)\n",
            "(8096, 17)\n"
          ]
        }
      ],
      "source": [
        "#Spliting the Dataset\n",
        "from sklearn.model_selection import train_test_split\n",
        "x_train, x_val, y_train, y_val = train_test_split(x,y, test_size=0.2, random_state = 42)\n",
        "print(x_train.shape)\n",
        "print(x_val.shape)\n",
        "print(y_train.shape)\n",
        "print(y_val.shape)"
      ]
    },
    {
      "cell_type": "code",
      "execution_count": 19,
      "metadata": {
        "colab": {
          "base_uri": "https://localhost:8080/"
        },
        "id": "Upq-ze9hWgD1",
        "outputId": "15f2dea1-3b9a-4888-9223-d7796c56b06e"
      },
      "outputs": [
        {
          "output_type": "stream",
          "name": "stdout",
          "text": [
            "Number of labels:  17\n",
            "\n",
            "\n",
            "['agriculture' 'artisinal_mine' 'bare_ground' 'blooming' 'blow_down'\n",
            " 'clear' 'cloudy' 'conventional_mine' 'cultivation' 'habitation' 'haze'\n",
            " 'partly_cloudy' 'primary' 'road' 'selective_logging' 'slash_burn' 'water']\n"
          ]
        }
      ],
      "source": [
        "# This is a multi label task and labels are given in a single Dataframe Series\n",
        "from sklearn.preprocessing import MultiLabelBinarizer\n",
        "mlb = MultiLabelBinarizer()\n",
        "tags = train_classes['tags'].str.split()\n",
        "y = mlb.fit_transform(tags)\n",
        "\n",
        "labels = mlb.classes_\n",
        "print('Number of labels: ', len(labels))\n",
        "print('\\n')\n",
        "print(labels)"
      ]
    },
    {
      "cell_type": "code",
      "execution_count": 20,
      "metadata": {
        "id": "ZBCDVfMko1MU"
      },
      "outputs": [],
      "source": [
        "#Importing all layers\n",
        "from keras import backend as K\n",
        "from sklearn.metrics import fbeta_score\n",
        "from tensorflow import keras\n",
        "from keras.models import Sequential\n",
        "from tensorflow.keras.preprocessing.image import load_img, img_to_array\n",
        "from keras.layers import Dense, Dropout, Flatten\n",
        "from keras.layers import Conv2D, MaxPooling2D, BatchNormalization\n",
        "from keras.callbacks import EarlyStopping, ModelCheckpoint\n",
        "from keras import optimizers\n",
        "from tensorflow.keras.optimizers import Adam\n"
      ]
    },
    {
      "cell_type": "code",
      "execution_count": 21,
      "metadata": {
        "id": "ODvo4GOisG15"
      },
      "outputs": [],
      "source": [
        "def fbeta(y_true, y_pred):\n",
        "    beta_squared = 4\n",
        "\n",
        "    tp = K.sum(y_true * y_pred) + K.epsilon()\n",
        "    fp = K.sum(y_pred) - tp\n",
        "    fn = K.sum(y_true) - tp\n",
        "\n",
        "    precision = tp / (tp + fp)\n",
        "    recall = tp / (tp + fn)\n",
        "\n",
        "    result = (beta_squared + 1) * (precision * recall) / (beta_squared * precision + recall + K.epsilon())\n",
        "    return result"
      ]
    },
    {
      "cell_type": "code",
      "source": [
        " #this model contains two hidden layer, an input and an output layer\n",
        "model = keras.Sequential() \n",
        "model.add(Conv2D(128, 5, 2, activation = \"relu\", input_shape = (64, 64, 3)))\n",
        "model.add(MaxPooling2D())\n",
        "model.add(Conv2D(64, 3, 2, activation = \"relu\"))\n",
        "model.add(MaxPooling2D())\n",
        "model.add(Flatten())\n",
        "model.add(Dense(17, activation = \"sigmoid\"))\n",
        "model.compile(loss = \"binary_crossentropy\", optimizer = 'adam', metrics = [fbeta])\n",
        "model.fit(x_train, y_train, epochs = 10, batch_size = 64)\n",
        "val_loss,val_acc = model.evaluate(x_val, y_val)\n",
        "print('Tested Acc:', val_acc)"
      ],
      "metadata": {
        "colab": {
          "base_uri": "https://localhost:8080/"
        },
        "id": "OMfwbk9Ax7Or",
        "outputId": "eec7a014-94f1-40b8-ee9e-e3fe0c03bf14"
      },
      "execution_count": 22,
      "outputs": [
        {
          "output_type": "stream",
          "name": "stdout",
          "text": [
            "Epoch 1/10\n",
            "506/506 [==============================] - 83s 161ms/step - loss: 0.2412 - fbeta: 0.5807\n",
            "Epoch 2/10\n",
            "506/506 [==============================] - 81s 160ms/step - loss: 0.2106 - fbeta: 0.6273\n",
            "Epoch 3/10\n",
            "506/506 [==============================] - 82s 162ms/step - loss: 0.2045 - fbeta: 0.6381\n",
            "Epoch 4/10\n",
            "506/506 [==============================] - 87s 173ms/step - loss: 0.1980 - fbeta: 0.6492\n",
            "Epoch 5/10\n",
            "506/506 [==============================] - 81s 160ms/step - loss: 0.1946 - fbeta: 0.6570\n",
            "Epoch 6/10\n",
            "506/506 [==============================] - 81s 160ms/step - loss: 0.1923 - fbeta: 0.6609\n",
            "Epoch 7/10\n",
            "506/506 [==============================] - 81s 160ms/step - loss: 0.1898 - fbeta: 0.6659\n",
            "Epoch 8/10\n",
            "506/506 [==============================] - 81s 160ms/step - loss: 0.1860 - fbeta: 0.6723\n",
            "Epoch 9/10\n",
            "506/506 [==============================] - 81s 159ms/step - loss: 0.1822 - fbeta: 0.6801\n",
            "Epoch 10/10\n",
            "506/506 [==============================] - 80s 159ms/step - loss: 0.1786 - fbeta: 0.6867\n",
            "253/253 [==============================] - 6s 24ms/step - loss: 0.1776 - fbeta: 0.7063\n",
            "Tested Acc: 0.7063241004943848\n"
          ]
        }
      ]
    },
    {
      "cell_type": "code",
      "source": [
        "import gc\n",
        "gc.collect()"
      ],
      "metadata": {
        "colab": {
          "base_uri": "https://localhost:8080/"
        },
        "id": "pZTjA2B_w4ql",
        "outputId": "d8df1eda-29ef-4b63-8523-a7e0c8764ef2"
      },
      "execution_count": 23,
      "outputs": [
        {
          "output_type": "execute_result",
          "data": {
            "text/plain": [
              "1374"
            ]
          },
          "metadata": {},
          "execution_count": 23
        }
      ]
    },
    {
      "cell_type": "code",
      "source": [
        "# Evaluate the model on x_val dataset\n",
        "from sklearn.metrics import fbeta_score\n",
        "y_pred = model.predict(x_val, batch_size=64)\n",
        "score = fbeta_score(y_val, np.array(y_pred) > 0.2, beta=2, average='samples')\n",
        "\n",
        "print(\"Test score (f1): {}\".format(score))\n",
        "print(\"Error: {}\".format(100-score*100))"
      ],
      "metadata": {
        "id": "KiO4xZdpyJse",
        "colab": {
          "base_uri": "https://localhost:8080/"
        },
        "outputId": "a1b6e48c-b3da-4315-e622-6f158cabb0c5"
      },
      "execution_count": 26,
      "outputs": [
        {
          "output_type": "stream",
          "name": "stdout",
          "text": [
            "Test score (f1): 0.7677077596174432\n",
            "Error: 23.22922403825568\n"
          ]
        }
      ]
    },
    {
      "cell_type": "code",
      "source": [
        "test_loss, test_accuracy = model.evaluate(x_val, y_val)\n",
        "print('Test loss: {}'.format(test_loss))\n",
        "print('Test accuracy: {}'.format(test_accuracy))\n",
        "\n"
      ],
      "metadata": {
        "colab": {
          "base_uri": "https://localhost:8080/"
        },
        "id": "aY72mZYtlQ5b",
        "outputId": "18c42de0-8cc1-4aff-925b-d21f477967bf"
      },
      "execution_count": 27,
      "outputs": [
        {
          "output_type": "stream",
          "name": "stdout",
          "text": [
            "253/253 [==============================] - 307s 1s/step - loss: 0.2202 - fbeta: 0.5965\n",
            "Test loss: 0.22015425562858582\n",
            "Test accuracy: 0.5964882373809814\n"
          ]
        }
      ]
    },
    {
      "cell_type": "code",
      "source": [
        "gc.collect()"
      ],
      "metadata": {
        "colab": {
          "base_uri": "https://localhost:8080/"
        },
        "id": "6-24OyzzmuzJ",
        "outputId": "dd4df271-205f-4ad2-f760-b0277065ab22"
      },
      "execution_count": 28,
      "outputs": [
        {
          "output_type": "execute_result",
          "data": {
            "text/plain": [
              "5672"
            ]
          },
          "metadata": {},
          "execution_count": 28
        }
      ]
    },
    {
      "cell_type": "code",
      "source": [
        "#Testing the model on Test data\n",
        "from tqdm import tqdm \n",
        "X_test=[]\n",
        "\n",
        "for img, label in tqdm(sample_sub[:40669].values, miniters = 1000):\n",
        "  X_test.append(cv2.resize(cv2.imread('/content/planet/planet/test-jpg/{}.jpg'.format(img)), (64,64)))\n",
        "\n",
        "for img, label in tqdm(sample_sub[40669:].values, miniters = 1000):\n",
        "  X_test.append(cv2.resize(cv2.imread('/content/test-jpg-additional/test-jpg-additional/{}.jpg'.format(img)), (64,64)))\n",
        "\n",
        "x_test = np.array(X_test, np.float16)/255.0"
      ],
      "metadata": {
        "colab": {
          "base_uri": "https://localhost:8080/"
        },
        "id": "ntzHyH1Cm5Z6",
        "outputId": "b84585c5-db64-4010-b820-6d7c559f6b57"
      },
      "execution_count": 29,
      "outputs": [
        {
          "output_type": "stream",
          "name": "stderr",
          "text": [
            "100%|██████████| 40669/40669 [01:11<00:00, 565.18it/s]\n",
            "100%|██████████| 20522/20522 [00:33<00:00, 617.27it/s]\n"
          ]
        }
      ]
    },
    {
      "cell_type": "code",
      "source": [
        "x_test.shape\n",
        "\n"
      ],
      "metadata": {
        "colab": {
          "base_uri": "https://localhost:8080/"
        },
        "id": "-nCCcruToi7P",
        "outputId": "61ca457b-6e64-4e7c-f8e7-cb3d6e2817e9"
      },
      "execution_count": 30,
      "outputs": [
        {
          "output_type": "execute_result",
          "data": {
            "text/plain": [
              "(61191, 64, 64, 3)"
            ]
          },
          "metadata": {},
          "execution_count": 30
        }
      ]
    },
    {
      "cell_type": "code",
      "source": [
        "Test_pred = model.predict(x_test, batch_size = 64)\n",
        "\n"
      ],
      "metadata": {
        "id": "JiMzI6sJosrB"
      },
      "execution_count": 31,
      "outputs": []
    },
    {
      "cell_type": "code",
      "source": [
        "gc.collect()"
      ],
      "metadata": {
        "colab": {
          "base_uri": "https://localhost:8080/"
        },
        "id": "ZE4S7mlh-V-o",
        "outputId": "cf6d4841-dbc8-434f-ed09-cc292554b988"
      },
      "execution_count": 32,
      "outputs": [
        {
          "output_type": "execute_result",
          "data": {
            "text/plain": [
              "1017"
            ]
          },
          "metadata": {},
          "execution_count": 32
        }
      ]
    },
    {
      "cell_type": "code",
      "source": [
        "Test_pred"
      ],
      "metadata": {
        "colab": {
          "base_uri": "https://localhost:8080/"
        },
        "id": "otNKlba6-eQT",
        "outputId": "b709adb8-0a76-4ba7-b824-ce9d6a4ad271"
      },
      "execution_count": 33,
      "outputs": [
        {
          "output_type": "execute_result",
          "data": {
            "text/plain": [
              "array([[0.01137447, 0.08735406, 0.07323402, ..., 0.12412626, 0.7518034 ,\n",
              "        0.03907153],\n",
              "       [0.01169023, 0.08586183, 0.08697969, ..., 0.15189189, 0.80290264,\n",
              "        0.03935182],\n",
              "       [0.04619774, 0.19807202, 0.2046602 , ..., 0.53583086, 0.29097968,\n",
              "        0.18401405],\n",
              "       ...,\n",
              "       [0.01751074, 0.1061911 , 0.13232619, ..., 0.26192573, 0.72400606,\n",
              "        0.06992695],\n",
              "       [0.01093879, 0.09194764, 0.0711593 , ..., 0.12137187, 0.5910964 ,\n",
              "        0.04899168],\n",
              "       [0.03810099, 0.15783   , 0.3650223 , ..., 0.6984886 , 0.50359243,\n",
              "        0.24319407]], dtype=float32)"
            ]
          },
          "metadata": {},
          "execution_count": 33
        }
      ]
    },
    {
      "cell_type": "code",
      "source": [
        "#CREATING A DATAFRAME OF PREDICTIONS WITH ASSOCIATED LABELS\n",
        "prediction = pd.DataFrame(Test_pred, columns= labels)\n",
        "\n"
      ],
      "metadata": {
        "id": "1aqCmG5I-neK"
      },
      "execution_count": 34,
      "outputs": []
    },
    {
      "cell_type": "code",
      "source": [
        "final_prediction = []\n",
        "\n",
        "for i in tqdm(range(prediction.shape[0]), miniters=1000):\n",
        "    a = prediction.loc[[i]]\n",
        "    a = a.apply(lambda x:x>0.2, axis =1)\n",
        "    a = a.transpose()\n",
        "    a = a.loc[a[i]==True]\n",
        "    ' '.join(list(a.index))\n",
        "    final_prediction.append(' '.join(list(a.index)))"
      ],
      "metadata": {
        "colab": {
          "base_uri": "https://localhost:8080/"
        },
        "id": "BmGjy8j5_Lu9",
        "outputId": "d17ec870-d9f9-4d26-c52e-aea38ce7c435"
      },
      "execution_count": 35,
      "outputs": [
        {
          "output_type": "stream",
          "name": "stderr",
          "text": [
            "100%|██████████| 61191/61191 [02:13<00:00, 457.51it/s]\n"
          ]
        }
      ]
    },
    {
      "cell_type": "code",
      "source": [
        "#My Kaggle Submission"
      ],
      "metadata": {
        "id": "X-fr1g7s_72c"
      },
      "execution_count": 37,
      "outputs": []
    },
    {
      "cell_type": "code",
      "source": [
        "#CREATING A SUBMISSION CSV FILE\n",
        "sample_sub['tags'] = final_prediction\n",
        "sample_sub.to_csv('My_Kaggle_submission.csv', index = False)\n"
      ],
      "metadata": {
        "id": "jdqZeqNoAFYi"
      },
      "execution_count": 38,
      "outputs": []
    }
  ],
  "metadata": {
    "colab": {
      "collapsed_sections": [],
      "name": "Hamoye Stage D, Planet: Understanding the Amazon from Space",
      "provenance": []
    },
    "kernelspec": {
      "display_name": "Python 3",
      "name": "python3"
    },
    "language_info": {
      "name": "python"
    }
  },
  "nbformat": 4,
  "nbformat_minor": 0
}